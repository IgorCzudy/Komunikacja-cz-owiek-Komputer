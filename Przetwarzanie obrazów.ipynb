{
 "cells": [
  {
   "cell_type": "code",
   "execution_count": 20,
   "id": "dfe1ee0e",
   "metadata": {},
   "outputs": [],
   "source": [
    "from skimage import filters,data,color,measure,exposure,io,img_as_float\n",
    "from matplotlib import pyplot as plt\n",
    "from matplotlib.pyplot import imshow\n",
    "import numpy as np"
   ]
  },
  {
   "cell_type": "code",
   "execution_count": 21,
   "id": "4a7e9e48",
   "metadata": {},
   "outputs": [],
   "source": [
    "FILES_LIST = [r'C:\\Users\\Dell\\Downloads\\samolot12.jpg',r'C:\\Users\\Dell\\Downloads\\samolot10.jpg',r'C:\\Users\\Dell\\Downloads\\samolot08.jpg',r'C:\\Users\\Dell\\Downloads\\samolot09.jpg',r'C:\\Users\\Dell\\Downloads\\samolot01.jpg',r'C:\\Users\\Dell\\Downloads\\samolot07.jpg'];\n"
   ]
  },
  {
   "cell_type": "code",
   "execution_count": 28,
   "id": "ae1fe9bd",
   "metadata": {},
   "outputs": [
    {
     "data": {
      "image/png": "[encoded data removed]",
      "text/plain": [
       "<Figure size 432x288 with 6 Axes>"
      ]
     },
     "metadata": {},
     "output_type": "display_data"
    }
   ],
   "source": [
    "fig = plt.figure(facecolor=\"black\")\n",
    "i=1\n",
    "for file in FILES_LIST:\n",
    "    plt.subplot(2,3,i)\n",
    "    i+=1\n",
    "    img=img_as_float(io.imread(file,as_gray=True))\n",
    "    imshow(skimage.feature.canny(img, sigma=6),cmap='gray')\n",
    "plt.show()"
   ]
  },
  {
   "cell_type": "code",
   "execution_count": null,
   "id": "30d4019d",
   "metadata": {},
   "outputs": [],
   "source": []
  }
 ],
 "metadata": {
  "kernelspec": {
   "display_name": "Python 3",
   "language": "python",
   "name": "python3"
  },
  "language_info": {
   "codemirror_mode": {
    "name": "ipython",
    "version": 3
   },
   "file_extension": ".py",
   "mimetype": "text/x-python",
   "name": "python",
   "nbconvert_exporter": "python",
   "pygments_lexer": "ipython3",
   "version": "3.9.4"
  }
 },
 "nbformat": 4,
 "nbformat_minor": 5
}
